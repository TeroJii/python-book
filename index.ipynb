{
  "cells": [
    {
      "cell_type": "markdown",
      "metadata": {},
      "source": [
        "# Preface {.unnumbered}"
      ]
    },
    {
      "cell_type": "code",
      "metadata": {},
      "source": [
        "print('Hello World!')"
      ],
      "execution_count": null,
      "outputs": []
    },
    {
      "cell_type": "markdown",
      "metadata": {},
      "source": [
        "This book is meant as a reference for myself as I'm learning to use python more efficiently. I do not yet know what it will contain, if anything. Let's find out where this journey leads.\n",
        "\n",
        "::: {.callout-note}\n",
        "Note if you are looking to **really** learn Python. Then I recommend reading a book like Wes McKinney's Python for data analysis @McKinneyBook.\n",
        "::: "
      ]
    }
  ],
  "metadata": {
    "kernelspec": {
      "name": "python3",
      "language": "python",
      "display_name": "Python 3 (ipykernel)"
    }
  },
  "nbformat": 4,
  "nbformat_minor": 4
}