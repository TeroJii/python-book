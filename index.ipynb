{
  "cells": [
    {
      "cell_type": "markdown",
      "metadata": {},
      "source": [
        "# Preface {.unnumbered}"
      ]
    },
    {
      "cell_type": "code",
      "metadata": {},
      "source": [
        "print('Hello World!')"
      ],
      "execution_count": null,
      "outputs": []
    },
    {
      "cell_type": "markdown",
      "metadata": {},
      "source": [
        "I'm Tero and I work as a data scientist. I've been mainly programming with R for the past 7 years or so. However, I've started recently to use Python more as well. This book is meant as a reference for myself as I'm learning to use Python more efficiently. Hence, it will be a living document for the time being. Let's find out where this journey leads.\n",
        "\n",
        "::: {.callout-note}\n",
        "Note if you are looking to **really** learn Python. Then I recommend reading a book like Wes McKinney's Python for data analysis @McKinneyBook. That being said, I do hope that this book will become a useful reference to some core concepts in Python.\n",
        "::: "
      ]
    }
  ],
  "metadata": {
    "kernelspec": {
      "name": "python3",
      "language": "python",
      "display_name": "Python 3 (ipykernel)"
    }
  },
  "nbformat": 4,
  "nbformat_minor": 4
}